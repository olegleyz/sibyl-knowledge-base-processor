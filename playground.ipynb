{
 "cells": [
  {
   "cell_type": "code",
   "execution_count": 2,
   "metadata": {},
   "outputs": [],
   "source": [
    "%load_ext autoreload\n",
    "%autoreload 2\n",
    "from extractors.base_energy_kb import BaseEnergyKB\n",
    "from utils import utils"
   ]
  },
  {
   "cell_type": "markdown",
   "metadata": {},
   "source": [
    "## Process audio transcription of a day base energy into a structured knowledge base\n",
    "There are 4 sections which could be extracted for each base energy of a day:\n",
    "- summary\n",
    "- positive\n",
    "- negative\n",
    "- recommendation  \n",
    "\n",
    "Extracting each section in a chain of prompts."
   ]
  },
  {
   "cell_type": "code",
   "execution_count": 3,
   "metadata": {},
   "outputs": [
    {
     "name": "stdout",
     "output_type": "stream",
     "text": [
      "Day(s): (1, 23)\n",
      "\n",
      "summary:\n",
      "Люди стремятся к лидерству и инновациям, а также имеют сильное желание накапливать знания, как академические, так и эзотерические. Они обладают\n",
      "выдающимися интеллектуальными способностями и могут быть отличными ораторами. Тем не менее, им часто сложно подчиняться, и они болезненно реагируют на\n",
      "критику.\n",
      "\n",
      "\n",
      "positive:\n",
      "Когда люди находятся на высоких вибрациях, они излучают уверенность и радость. Их лидерские качества проявляются в умении генерировать новые идеи и\n",
      "вдохновлять окружающих. Они стремятся к интеллектуальному росту, постоянно обучаясь и осваивая новые знания, что придаёт их жизни смысл и гармонию.\n",
      "Хорошие ораторы общаются легко, привлекая внимание аудитории и делясь своими мыслями. В отношениях они открыты и отзывчивы, создавая вокруг себя\n",
      "атмосферу тепла и энергии. Их способности к самоутверждению помогают уверенно двигаться к целям, ощущая поддержку внутренней силы и порядка в жизни.\n",
      "\n",
      "\n",
      "negative:\n",
      "Когда люди проявляют негативные эмоции, им трудно общаться, что может приводить к конфликтам и напряженности в отношениях с близкими. Они испытывают\n",
      "обиды и негативные чувства в коммуникации, что усугубляет взаимопонимание. Часто встречается чрезмерная гордыня, мешающая адекватно воспринимать\n",
      "критику и развиваться. Страхи и комплексы могут усиливаться, скрываясь за масками надменности, в то время как сомнения в своих силах приводят к\n",
      "эгоизму и неспособности развивать таланты. В результате такие люди могут чувствовать истощенность, потерянность и отсутствие прогресса в своей жизни.\n",
      "\n",
      "\n",
      "recommendation:\n",
      "Людям, рожденным в указанные даты, рекомендуется накапливать знания разными способами. Это включает как академическое, так и эзотерическое обучение,\n",
      "особенно после 37 лет. Им важно развивать лидерские качества и ораторские навыки. Также стоит поддерживать положительные отношения с братьями и\n",
      "сестрами. Необходимо избегать гордыни и чувства превосходства. Вместо этого следует сосредоточиться на внутренней уверенности в своих силах и\n",
      "потенциале.\n",
      "\n"
     ]
    }
   ],
   "source": [
    "bekb = BaseEnergyKB(use_openai=True)\n",
    "bekb_day = bekb.get_kb(demo=True, verbose=True)"
   ]
  },
  {
   "cell_type": "markdown",
   "metadata": {},
   "source": [
    "## Process audio transcription of a month base energy into a structured knowledge base\n",
    "There are 4 sections which could be extracted for each base energy of a day:\n",
    "- summary\n",
    "- recommendation  \n",
    "\n",
    "Extracting each section in a chain of prompts."
   ]
  },
  {
   "cell_type": "code",
   "execution_count": null,
   "metadata": {},
   "outputs": [],
   "source": [
    "bekb = BaseEnergyKB(use_openai=True)\n",
    "bekb_month = bekb.get_month_kb(demo=True, verbose=True)"
   ]
  },
  {
   "cell_type": "markdown",
   "metadata": {},
   "source": [
    "## Translate russian interpretations into english"
   ]
  },
  {
   "cell_type": "code",
   "execution_count": null,
   "metadata": {},
   "outputs": [],
   "source": [
    "bekb = BaseEnergyKB(use_openai=True)\n",
    "bekb.translate_be_day(demo=True, verbose=True)"
   ]
  },
  {
   "cell_type": "markdown",
   "metadata": {},
   "source": [
    "## Get reading (base energies) by name, sex, date and month of birth (russian)"
   ]
  },
  {
   "cell_type": "code",
   "execution_count": null,
   "metadata": {},
   "outputs": [],
   "source": [
    "    from extractors.base_energy_kb import BaseEnergyKB\n",
    "    from utils import utils\n",
    "    \n",
    "    bekb = BaseEnergyKB(use_openai=True)\n",
    "    oleg_be_reading_ru = bekb.get_reading(\"Oleg\", 21, 8, 38, \"m\", lang=\"ru\", verbose=False)[\"text\"]\n",
    "    for el in oleg_be_reading_ru:\n",
    "        utils.print_json_pretty(el, width=150)\n",
    "        print()"
   ]
  },
  {
   "cell_type": "markdown",
   "metadata": {},
   "source": [
    "## Get reading (base energies) by name, sex, date and month of birth (english)"
   ]
  },
  {
   "cell_type": "code",
   "execution_count": null,
   "metadata": {},
   "outputs": [],
   "source": [
    "    from extractors.base_energy_kb import BaseEnergyKB\n",
    "    from utils import utils\n",
    "    \n",
    "    bekb = BaseEnergyKB(use_openai=True)\n",
    "    oleg_be_reading_en = bekb.get_reading(\"Oleg\", 21, 8, 38, \"m\", lang=\"en\", verbose=False)[\"text\"]\n",
    "    for el in oleg_be_reading_en:\n",
    "        utils.print_json_pretty(el, width=150)\n",
    "        print()"
   ]
  },
  {
   "cell_type": "markdown",
   "metadata": {},
   "source": [
    "### Initializing a Chroma DB vector database"
   ]
  },
  {
   "cell_type": "code",
   "execution_count": 23,
   "metadata": {},
   "outputs": [],
   "source": [
    "from kb.numi_kb_creator import BaseEnergiesDayKBTopicEn, BaseEnergiesMonthKBTopicEn, NumerologyKBCreator"
   ]
  },
  {
   "cell_type": "code",
   "execution_count": 24,
   "metadata": {},
   "outputs": [],
   "source": [
    "# Loading Base Energy interpretations of day and month of birth\n",
    "be_day_topic = BaseEnergiesDayKBTopicEn()\n",
    "be_month_topic = BaseEnergiesMonthKBTopicEn()\n",
    "\n",
    "# Updating Vector Database with interpretations\n",
    "numi_kb_creator = NumerologyKBCreator()\n",
    "numi_kb_creator.upsert_topic_to_kb(be_day_topic)\n",
    "numi_kb_creator.upsert_topic_to_kb(be_month_topic)"
   ]
  },
  {
   "cell_type": "markdown",
   "metadata": {},
   "source": [
    "### Vector Database sample collection\n",
    "We are using Chroma DB as a vector database to store our knowledge base text, embeddings and metadata."
   ]
  },
  {
   "cell_type": "code",
   "execution_count": 25,
   "metadata": {},
   "outputs": [],
   "source": [
    "from kb.numi_kb_querier import NumerologyKBQuerier\n",
    "numi_kb_querier = NumerologyKBQuerier()"
   ]
  },
  {
   "cell_type": "code",
   "execution_count": 26,
   "metadata": {},
   "outputs": [
    {
     "name": "stdout",
     "output_type": "stream",
     "text": [
      "dict_keys(['ids', 'embeddings', 'documents', 'uris', 'data', 'metadatas', 'included'])\n",
      "Example of a doc id: en#BaseEnergiesDay#description\n",
      "Example of a doc text: The base energy of a day of birth represents the f\n",
      "Example of a metadata: {'lang': 'en', 'topic': 'BaseEnergiesDay', 'type': 'description'}\n"
     ]
    }
   ],
   "source": [
    "col_str = numi_kb_querier.kb.get()\n",
    "print(col_str.keys())\n",
    "print(f\"Example of a doc id: {col_str[\"ids\"][0]}\")\n",
    "print(f\"Example of a doc text: {col_str[\"documents\"][0][:50]}\")\n",
    "print(f\"Example of a metadata: {col_str['metadatas'][0]}\")"
   ]
  },
  {
   "cell_type": "markdown",
   "metadata": {},
   "source": [
    "### Querying Vector Database"
   ]
  },
  {
   "cell_type": "code",
   "execution_count": 27,
   "metadata": {},
   "outputs": [
    {
     "name": "stdout",
     "output_type": "stream",
     "text": [
      "The base energy of a day of birth represents the foundational essence of an individual’s character, imprinted at the moment of birth.      This\n",
      "energy, derived from the day of birth, shapes key personality traits and life directions.      It reveals how a person can best harness their\n",
      "strengths and address their weaknesses,      while also highlighting potential challenges and obstacles that may arise on their journey of personal\n",
      "growth.       Understanding this base energy fosters deeper self-awareness and insight into others, enhancing relationships,      guiding intentional\n",
      "decision-making, and supporting goal achievement.      This knowledge serves as a powerful tool for personal development, career progression,\n",
      "relationship harmony,      and overall well-being, offering meaningful guidance for optimizing life’s path.\n",
      "\n",
      "People who are filled with positive energy tend to radiate confidence and inner balance when they choose to cultivate it. They can see order and\n",
      "harmony in all aspects of their lives, which helps them feel at home within themselves. When a person shows genuine interest in those around them,\n",
      "they often transform every encounter into an opportunity for exchanging ideas and experiences. In moments when a person embraces new experiences, they\n",
      "might find it easier to adapt to changes, welcoming the diversity of the world they live in. Their kindness and willingness to help can create an\n",
      "atmosphere of mutual understanding and support, which fosters strong connections and friendships. Such individuals tend to inspire others with their\n",
      "energy, setting a positive tone in any situation, and they remind us to see the beauty in every moment of life.\n",
      "\n",
      "The base energy of a month of birth reflects the broader life tasks and responsibilities a person inherits,      often tied to their family lineage\n",
      "and ancestral legacy.      This energy, rooted in the month of birth, reveals the significant challenges and missions a person is meant to address in\n",
      "their lifetime.      It serves as a guide to understanding the larger patterns of their journey and the lessons they are destined to learn.\n",
      "\n",
      "The people in question tend to value honesty in their relationships with themselves and others. They may choose to build connections based on openness\n",
      "and sincerity. Honesty can become a key aspect of their lives, and they strive to avoid deception both towards themselves and towards others. It is\n",
      "important for them to let go of past relationships before starting new ones, as this can help them preserve their energy.\n",
      "\n",
      "It is recommended to develop skills for honest communication and to ask oneself important questions about true feelings. When a person chooses to set\n",
      "healthy boundaries, they can create space for positive interactions. Moreover, it is important to conclude old relationships before transitioning to\n",
      "new ones, as this can lead to clearer emotional states. A person tends to foster harmonious and sincere connections when they work towards ensuring\n",
      "that others share similar values.\n",
      "\n",
      "People tend to have an open perception of the world, high tolerance, and curiosity when they choose to embrace new experiences. They may easily adapt\n",
      "to new cultures and countries, particularly when they actively seek to connect with diverse individuals, which can enrich their lives.\n",
      "\n",
      "When people give in to negative emotions, they tend to express dissatisfaction towards both others and themselves. This dissatisfaction often\n",
      "manifests as criticism that does not lead to constructive solutions but only increases internal tension. A person may find themselves in a state of\n",
      "despair when the world feels hostile, and each interaction is viewed as a potential conflict. In moments like these, their interest in cultural roots\n",
      "and traditions might diminish, which can lead to a loss of connection with the community. This negative energy can drain their vitality, causing\n",
      "fatigue and a feeling of stagnation, as development becomes challenging in an atmosphere of criticism and aggression.\n",
      "\n",
      "People born on the specified dates may benefit from being open to new cultures and languages. When a person chooses to embrace the diversity of the\n",
      "world, they tend to foster friendly relationships with individuals from different countries, while also preserving their own roots and respecting\n",
      "their traditions. It is important for a person to avoid negative expressions and criticism of the surrounding world; instead, they can focus on\n",
      "broadening their horizons through travel and communication.\n",
      "\n"
     ]
    }
   ],
   "source": [
    "documents = numi_kb_querier.query_kb(21,8, \"Could you tell me about myself\")[\"documents\"][0]\n",
    "for doc in documents:\n",
    "    utils.print_json_pretty(doc, width=150)\n",
    "    print()"
   ]
  },
  {
   "cell_type": "code",
   "execution_count": null,
   "metadata": {},
   "outputs": [],
   "source": []
  }
 ],
 "metadata": {
  "kernelspec": {
   "display_name": ".venv",
   "language": "python",
   "name": "python3"
  },
  "language_info": {
   "codemirror_mode": {
    "name": "ipython",
    "version": 3
   },
   "file_extension": ".py",
   "mimetype": "text/x-python",
   "name": "python",
   "nbconvert_exporter": "python",
   "pygments_lexer": "ipython3",
   "version": "3.12.6"
  }
 },
 "nbformat": 4,
 "nbformat_minor": 2
}
